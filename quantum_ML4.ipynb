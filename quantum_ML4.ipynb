{
 "cells": [
  {
   "cell_type": "code",
   "execution_count": 2,
   "metadata": {
    "collapsed": true,
    "ExecuteTime": {
     "start_time": "2023-04-26T23:52:19.879993Z",
     "end_time": "2023-04-26T23:52:20.537734Z"
    }
   },
   "outputs": [
    {
     "data": {
      "text/plain": "<Figure size 447.797x264.88 with 1 Axes>",
      "image/png": "[encoded data removed]"
     },
     "execution_count": 2,
     "metadata": {},
     "output_type": "execute_result"
    }
   ],
   "source": [
    "from qiskit import *\n",
    "%matplotlib inline\n",
    "\n",
    "n_qbit = 3\n",
    "\n",
    "circuit = QuantumCircuit(n_qbit, n_qbit)\n",
    "circuit.h(0)\n",
    "circuit.cx(0, 1)\n",
    "circuit.cx(1, 2)\n",
    "circuit.measure([0,1,2],[0,1,2])\n",
    "\n",
    "circuit.draw(output='mpl')"
   ]
  },
  {
   "cell_type": "code",
   "execution_count": 3,
   "outputs": [],
   "source": [
    "simulator = Aer.get_backend('qasm_simulator')\n",
    "sim_result = execute(circuit, backend = simulator, shots=1024).result()"
   ],
   "metadata": {
    "collapsed": false,
    "ExecuteTime": {
     "start_time": "2023-04-26T23:53:12.380691Z",
     "end_time": "2023-04-26T23:53:13.453153Z"
    }
   }
  },
  {
   "cell_type": "code",
   "execution_count": 4,
   "outputs": [
    {
     "data": {
      "text/plain": "<Figure size 504x360 with 1 Axes>",
      "image/png": "[encoded data removed]"
     },
     "execution_count": 4,
     "metadata": {},
     "output_type": "execute_result"
    }
   ],
   "source": [
    "from qiskit.visualization import plot_histogram\n",
    "\n",
    "plot_histogram(sim_result.get_counts(circuit))"
   ],
   "metadata": {
    "collapsed": false,
    "ExecuteTime": {
     "start_time": "2023-04-26T23:53:43.123788Z",
     "end_time": "2023-04-26T23:53:43.193002Z"
    }
   }
  },
  {
   "cell_type": "code",
   "execution_count": 7,
   "outputs": [
    {
     "name": "stderr",
     "output_type": "stream",
     "text": [
      "ibmqfactory.load_account:WARNING:2023-04-26 23:55:41,316: Credentials are already in use. The existing account in the session will be replaced.\n"
     ]
    }
   ],
   "source": [
    "IBMQ.load_account()\n",
    "provider = IBMQ.get_provider(hub='ibm-q')\n",
    "device = provider.get_backend('ibm_nairobi')"
   ],
   "metadata": {
    "collapsed": false,
    "ExecuteTime": {
     "start_time": "2023-04-26T23:55:40.488118Z",
     "end_time": "2023-04-26T23:55:44.765934Z"
    }
   }
  },
  {
   "cell_type": "code",
   "execution_count": null,
   "outputs": [
    {
     "name": "stdout",
     "output_type": "stream",
     "text": [
      "ch4ps8gl1tcjfhm8kb30\n",
      "Job Status: job is queued (None)"
     ]
    }
   ],
   "source": [
    "job = execute(circuit, backend = device, shots = 1024)\n",
    "\n",
    "print(job.job_id())\n",
    "\n",
    "from qiskit.tools.monitor import job_monitor\n",
    "\n",
    "job_monitor(job)"
   ],
   "metadata": {
    "collapsed": false,
    "pycharm": {
     "is_executing": true
    }
   }
  },
  {
   "cell_type": "code",
   "execution_count": null,
   "outputs": [],
   "source": [
    "device_result = job.result()\n",
    "\n",
    "plot_histogram(device_result.get_counts(circuit))"
   ],
   "metadata": {
    "collapsed": false
   }
  },
  {
   "cell_type": "code",
   "execution_count": null,
   "outputs": [],
   "source": [
    "\"\"\"\n",
    "mitighiamo il rumore\n",
    "\"\"\"\n",
    "\n",
    "from qiskit.ignis.mitigation.measurement import (complete_meas_cal, CompleteMeasFitter)\n",
    "\n",
    "cal_circuits, state_lables = complete_meas_cal(qr = circuit.qregs[0], circlabel= 'measerromitigationcal')\n",
    "\n",
    "cal_circuits[2].draw(output='mpl')"
   ],
   "metadata": {
    "collapsed": false
   }
  },
  {
   "cell_type": "code",
   "execution_count": null,
   "outputs": [],
   "source": [
    "cal_job = execute(cal_circuits,\n",
    "                  backend = device,\n",
    "                  shots = 1024,\n",
    "                  optimization_level = 0\n",
    "                  )\n",
    "\n",
    "print(cal_job.job_id())\n",
    "\n",
    "job_monitor(cal_job)\n",
    "cal_result = cal_job.result()\n",
    "\n",
    "plot_histogram(cal_result.get_counts(cal_result[3]))"
   ],
   "metadata": {
    "collapsed": false
   }
  },
  {
   "cell_type": "code",
   "execution_count": null,
   "outputs": [],
   "source": [
    "meas_fitter = CompleteMeasFitter(cal_result, state_lables)\n",
    "\n",
    "meas_fitter.plot_calibration()"
   ],
   "metadata": {
    "collapsed": false
   }
  },
  {
   "cell_type": "code",
   "execution_count": null,
   "outputs": [],
   "source": [
    "meas_fitter = meas_fitter.filter\n",
    "\n",
    "mitigated_result = meas_fitter.apply(device_result)\n",
    "\n",
    "device_counts = device_result.get_counts(circuit)\n",
    "mitigated_counts = mitigated_result.counts(circuit)\n",
    "\n",
    "plot_histogram([device_counts, mitigated_counts], legend=['device, noisy', 'device, mitigated'])"
   ],
   "metadata": {
    "collapsed": false
   }
  },
  {
   "cell_type": "code",
   "execution_count": null,
   "outputs": [],
   "source": [],
   "metadata": {
    "collapsed": false
   }
  },
  {
   "cell_type": "markdown",
   "source": [],
   "metadata": {
    "collapsed": false
   }
  }
 ],
 "metadata": {
  "kernelspec": {
   "display_name": "Python 3",
   "language": "python",
   "name": "python3"
  },
  "language_info": {
   "codemirror_mode": {
    "name": "ipython",
    "version": 2
   },
   "file_extension": ".py",
   "mimetype": "text/x-python",
   "name": "python",
   "nbconvert_exporter": "python",
   "pygments_lexer": "ipython2",
   "version": "2.7.6"
  }
 },
 "nbformat": 4,
 "nbformat_minor": 0
}
