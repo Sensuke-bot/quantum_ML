{
 "cells": [
  {
   "cell_type": "code",
   "execution_count": null,
   "outputs": [],
   "source": [
    "from qiskit import IBMQ\n",
    "\n",
    "IBMQ.save_account(\n",
    "\t'b68b5d188cd60680a5fa1533a9cfa20c40454ddf5500f7f0a730d312a975dfb159cc97ffa09b08cf230fffa533a3903b29be3c2adeda264286b7ccfb0b9c3a15')\n",
    "\n",
    "IBMQ.load_account()"
   ],
   "metadata": {
    "collapsed": false,
    "ExecuteTime": {
     "start_time": "2023-04-26T10:49:39.277990Z",
     "end_time": "2023-04-26T10:49:45.612533Z"
    }
   }
  },
  {
   "cell_type": "code",
   "execution_count": null,
   "outputs": [],
   "source": [
    "from qiskit import *\n",
    "\n",
    "qr = QuantumRegister(2)\n",
    "\n",
    "cr = ClassicalRegister(2)\n",
    "\n",
    "circuit = QuantumCircuit(qr, cr)"
   ],
   "metadata": {
    "collapsed": false,
    "ExecuteTime": {
     "start_time": "2023-04-26T10:49:45.614535Z",
     "end_time": "2023-04-26T10:49:45.639978Z"
    }
   }
  },
  {
   "cell_type": "code",
   "execution_count": null,
   "outputs": [],
   "source": [
    "%matplotlib inline"
   ],
   "metadata": {
    "collapsed": false,
    "ExecuteTime": {
     "start_time": "2023-04-26T10:49:45.628966Z",
     "end_time": "2023-04-26T10:49:45.833164Z"
    }
   }
  },
  {
   "cell_type": "code",
   "execution_count": null,
   "outputs": [],
   "source": [
    "circuit.draw()"
   ],
   "metadata": {
    "collapsed": false,
    "ExecuteTime": {
     "start_time": "2023-04-26T10:49:45.834165Z",
     "end_time": "2023-04-26T10:49:45.847680Z"
    }
   }
  },
  {
   "cell_type": "code",
   "execution_count": null,
   "outputs": [],
   "source": [
    "circuit.h(qr[0]) # creiamo il gate"
   ],
   "metadata": {
    "collapsed": false,
    "ExecuteTime": {
     "start_time": "2023-04-26T10:49:45.849681Z",
     "end_time": "2023-04-26T10:49:45.884713Z"
    }
   }
  },
  {
   "cell_type": "code",
   "execution_count": null,
   "outputs": [],
   "source": [
    "circuit.draw(output='mpl')"
   ],
   "metadata": {
    "collapsed": false,
    "ExecuteTime": {
     "start_time": "2023-04-26T10:49:45.864695Z",
     "end_time": "2023-04-26T10:49:46.117934Z"
    }
   }
  },
  {
   "cell_type": "code",
   "execution_count": null,
   "outputs": [],
   "source": [
    "circuit.cx(qr[0], qr[1]) # imponiamo un'operatore, ad esempio la somma"
   ],
   "metadata": {
    "collapsed": false,
    "ExecuteTime": {
     "start_time": "2023-04-26T10:49:46.119936Z",
     "end_time": "2023-04-26T10:49:46.153472Z"
    }
   }
  },
  {
   "cell_type": "code",
   "execution_count": null,
   "outputs": [],
   "source": [
    "circuit.draw(output='mpl')"
   ],
   "metadata": {
    "collapsed": false,
    "ExecuteTime": {
     "start_time": "2023-04-26T10:49:46.134951Z",
     "end_time": "2023-04-26T10:49:46.214528Z"
    }
   }
  },
  {
   "cell_type": "code",
   "execution_count": null,
   "outputs": [],
   "source": [
    "circuit.measure(qr, cr)"
   ],
   "metadata": {
    "collapsed": false,
    "ExecuteTime": {
     "start_time": "2023-04-26T10:49:46.216529Z",
     "end_time": "2023-04-26T10:49:46.257072Z"
    }
   }
  },
  {
   "cell_type": "code",
   "execution_count": null,
   "outputs": [],
   "source": [
    "circuit.draw(output='mpl')"
   ],
   "metadata": {
    "collapsed": false,
    "ExecuteTime": {
     "start_time": "2023-04-26T10:49:46.232547Z",
     "end_time": "2023-04-26T10:49:46.340150Z"
    }
   }
  },
  {
   "cell_type": "code",
   "execution_count": null,
   "outputs": [],
   "source": [
    "# creiamo un simulatore\n",
    "\n",
    "simulator = Aer.get_backend('qasm_simulator')\n",
    "\n",
    "result = execute(circuit, backend=simulator).result()"
   ],
   "metadata": {
    "collapsed": false,
    "ExecuteTime": {
     "start_time": "2023-04-26T10:49:46.342153Z",
     "end_time": "2023-04-26T10:49:47.116892Z"
    }
   }
  },
  {
   "cell_type": "code",
   "execution_count": null,
   "outputs": [],
   "source": [
    "from qiskit.tools.visualization import plot_histogram\n",
    "\n",
    "plot_histogram(result.get_counts(circuit))"
   ],
   "metadata": {
    "collapsed": false,
    "ExecuteTime": {
     "start_time": "2023-04-26T10:49:47.117893Z",
     "end_time": "2023-04-26T10:49:47.259031Z"
    }
   }
  },
  {
   "cell_type": "code",
   "execution_count": null,
   "outputs": [],
   "source": [
    "IBMQ.load_account()"
   ],
   "metadata": {
    "collapsed": false,
    "ExecuteTime": {
     "start_time": "2023-04-26T10:49:47.260032Z",
     "end_time": "2023-04-26T10:49:50.991212Z"
    }
   }
  },
  {
   "cell_type": "code",
   "execution_count": null,
   "outputs": [],
   "source": [
    "provider = IBMQ.get_provider('ibm-q')\n",
    "\n",
    "available_cloud_backend = provider.backends()\n",
    "\n",
    "print('\\nHere is the list of cloud backends that are available to yuo:')\n",
    "\n",
    "for i in available_cloud_backend:\n",
    "\tprint(i)\n",
    "\n",
    "available_locale_backend = Aer.backends()\n",
    "\n",
    "print('\\nHere the list local backend:')\n",
    "\n",
    "for j in available_locale_backend:\n",
    "\tprint(j)"
   ],
   "metadata": {
    "collapsed": false,
    "ExecuteTime": {
     "start_time": "2023-04-26T10:49:50.995216Z",
     "end_time": "2023-04-26T10:49:51.043834Z"
    }
   }
  },
  {
   "cell_type": "code",
   "execution_count": null,
   "outputs": [],
   "source": [
    "qcomp = provider.get_backend('ibm_nairobi')\n",
    "\n",
    "job = execute(circuit, backend=qcomp)\n",
    "\n",
    "from qiskit.tools.monitor import job_monitor\n",
    "\n",
    "job_monitor(job)"
   ],
   "metadata": {
    "collapsed": false,
    "ExecuteTime": {
     "start_time": "2023-04-26T10:47:00.363239Z",
     "end_time": "2023-04-26T10:47:00.406340Z"
    }
   }
  },
  {
   "cell_type": "code",
   "execution_count": null,
   "outputs": [],
   "source": [
    "result = job.result()\n",
    "\n",
    "plot_histogram(result.get_counts(circuit))"
   ],
   "metadata": {
    "collapsed": false,
    "ExecuteTime": {
     "start_time": "2023-04-26T10:47:00.380277Z",
     "end_time": "2023-04-26T10:47:00.419369Z"
    }
   }
  }
 ],
 "metadata": {
  "kernelspec": {
   "display_name": "Python 3",
   "language": "python",
   "name": "python3"
  },
  "language_info": {
   "codemirror_mode": {
    "name": "ipython",
    "version": 2
   },
   "file_extension": ".py",
   "mimetype": "text/x-python",
   "name": "python",
   "nbconvert_exporter": "python",
   "pygments_lexer": "ipython2",
   "version": "2.7.6"
  }
 },
 "nbformat": 4,
 "nbformat_minor": 0
}
