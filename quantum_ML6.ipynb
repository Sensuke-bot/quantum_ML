{
 "cells": [
  {
   "cell_type": "markdown",
   "source": [
    "In questa lezione vedremo un algortimo di ottimizzazione che deve risolvere un problema di soddisfacibilità.\n",
    "\n",
    "Questo algoritmo è detto Grow Algortimo.\n",
    "\n",
    "Facciamo un esempio:\n",
    "\n",
    "vogliamo andare a mangiare fuori, ad un ristorante tailandese ma non sappiamo in qualche ristorante andare.\n",
    "\n",
    "Il problema ha queste variabili:\n",
    "\n",
    "- se è aperto\n",
    "- ciò che vogliamo ordinare\n",
    "- se consegna\n",
    "- il cibo che voglio mangiare\n",
    "\n",
    "Quale ristorante in zona soddisfa queste caratteristiche?\n",
    "\n",
    "Sinché rimaniamo in un database abbastanza piccolo anche un telefono riesce a risolvere questo problema, ma cosa accadrebbe se usassimo un big-database?"
   ],
   "metadata": {
    "collapsed": false
   }
  },
  {
   "cell_type": "code",
   "execution_count": null,
   "outputs": [],
   "source": [],
   "metadata": {
    "collapsed": false
   }
  }
 ],
 "metadata": {
  "kernelspec": {
   "display_name": "Python 3",
   "language": "python",
   "name": "python3"
  },
  "language_info": {
   "codemirror_mode": {
    "name": "ipython",
    "version": 2
   },
   "file_extension": ".py",
   "mimetype": "text/x-python",
   "name": "python",
   "nbconvert_exporter": "python",
   "pygments_lexer": "ipython2",
   "version": "2.7.6"
  }
 },
 "nbformat": 4,
 "nbformat_minor": 0
}
